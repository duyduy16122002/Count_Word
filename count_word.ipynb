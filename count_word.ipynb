{
 "cells": [
  {
   "cell_type": "code",
   "execution_count": 11,
   "id": "3cbfa37e",
   "metadata": {},
   "outputs": [
    {
     "name": "stdout",
     "output_type": "stream",
     "text": [
      "Nhập văn bản: con gà con\n",
      "Nhập từ cần đếmgà\n",
      "1\n"
     ]
    }
   ],
   "source": [
    "def count_word(text,word):\n",
    "    lst = text.split(' ')\n",
    "    count = 0\n",
    "    for i in range (len(lst)):\n",
    "        count += lst[i].count(word)\n",
    "    return count\n",
    "text = input('Nhập văn bản: ')\n",
    "word = input('Nhập từ cần đếm: ')\n",
    "print(count_word(text,word))"
   ]
  },
  {
   "cell_type": "code",
   "execution_count": null,
   "id": "159db53f",
   "metadata": {},
   "outputs": [],
   "source": []
  }
 ],
 "metadata": {
  "kernelspec": {
   "display_name": "Python 3 (ipykernel)",
   "language": "python",
   "name": "python3"
  },
  "language_info": {
   "codemirror_mode": {
    "name": "ipython",
    "version": 3
   },
   "file_extension": ".py",
   "mimetype": "text/x-python",
   "name": "python",
   "nbconvert_exporter": "python",
   "pygments_lexer": "ipython3",
   "version": "3.9.12"
  }
 },
 "nbformat": 4,
 "nbformat_minor": 5
}
